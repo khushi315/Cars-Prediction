{
 "cells": [
  {
   "cell_type": "code",
   "execution_count": 37,
   "metadata": {
    "colab": {
     "base_uri": "https://localhost:8080/",
     "height": 394
    },
    "colab_type": "code",
    "id": "8Z1knV1rJ4oK",
    "outputId": "a88ee634-d1d0-4df1-a175-ac242ba90b5a"
   },
   "outputs": [
    {
     "data": {
      "text/html": [
       "<div>\n",
       "<style scoped>\n",
       "    .dataframe tbody tr th:only-of-type {\n",
       "        vertical-align: middle;\n",
       "    }\n",
       "\n",
       "    .dataframe tbody tr th {\n",
       "        vertical-align: top;\n",
       "    }\n",
       "\n",
       "    .dataframe thead th {\n",
       "        text-align: right;\n",
       "    }\n",
       "</style>\n",
       "<table border=\"1\" class=\"dataframe\">\n",
       "  <thead>\n",
       "    <tr style=\"text-align: right;\">\n",
       "      <th></th>\n",
       "      <th>Name</th>\n",
       "      <th>Location</th>\n",
       "      <th>Year</th>\n",
       "      <th>Kilometers_Driven</th>\n",
       "      <th>Fuel_Type</th>\n",
       "      <th>Transmission</th>\n",
       "      <th>Owner_Type</th>\n",
       "      <th>Mileage</th>\n",
       "      <th>Engine</th>\n",
       "      <th>Power</th>\n",
       "      <th>Seats</th>\n",
       "      <th>Price</th>\n",
       "    </tr>\n",
       "  </thead>\n",
       "  <tbody>\n",
       "    <tr>\n",
       "      <th>0</th>\n",
       "      <td>Maruti Wagon R LXI CNG</td>\n",
       "      <td>Mumbai</td>\n",
       "      <td>2010</td>\n",
       "      <td>72000</td>\n",
       "      <td>CNG</td>\n",
       "      <td>Manual</td>\n",
       "      <td>First</td>\n",
       "      <td>26.6 km/kg</td>\n",
       "      <td>998 CC</td>\n",
       "      <td>58.16 bhp</td>\n",
       "      <td>5.0</td>\n",
       "      <td>1.75</td>\n",
       "    </tr>\n",
       "    <tr>\n",
       "      <th>1</th>\n",
       "      <td>Hyundai Creta 1.6 CRDi SX Option</td>\n",
       "      <td>Pune</td>\n",
       "      <td>2015</td>\n",
       "      <td>41000</td>\n",
       "      <td>Diesel</td>\n",
       "      <td>Manual</td>\n",
       "      <td>First</td>\n",
       "      <td>19.67 kmpl</td>\n",
       "      <td>1582 CC</td>\n",
       "      <td>126.2 bhp</td>\n",
       "      <td>5.0</td>\n",
       "      <td>12.50</td>\n",
       "    </tr>\n",
       "    <tr>\n",
       "      <th>2</th>\n",
       "      <td>Honda Jazz V</td>\n",
       "      <td>Chennai</td>\n",
       "      <td>2011</td>\n",
       "      <td>46000</td>\n",
       "      <td>Petrol</td>\n",
       "      <td>Manual</td>\n",
       "      <td>First</td>\n",
       "      <td>18.2 kmpl</td>\n",
       "      <td>1199 CC</td>\n",
       "      <td>88.7 bhp</td>\n",
       "      <td>5.0</td>\n",
       "      <td>4.50</td>\n",
       "    </tr>\n",
       "    <tr>\n",
       "      <th>3</th>\n",
       "      <td>Maruti Ertiga VDI</td>\n",
       "      <td>Chennai</td>\n",
       "      <td>2012</td>\n",
       "      <td>87000</td>\n",
       "      <td>Diesel</td>\n",
       "      <td>Manual</td>\n",
       "      <td>First</td>\n",
       "      <td>20.77 kmpl</td>\n",
       "      <td>1248 CC</td>\n",
       "      <td>88.76 bhp</td>\n",
       "      <td>7.0</td>\n",
       "      <td>6.00</td>\n",
       "    </tr>\n",
       "    <tr>\n",
       "      <th>4</th>\n",
       "      <td>Audi A4 New 2.0 TDI Multitronic</td>\n",
       "      <td>Coimbatore</td>\n",
       "      <td>2013</td>\n",
       "      <td>40670</td>\n",
       "      <td>Diesel</td>\n",
       "      <td>Automatic</td>\n",
       "      <td>Second</td>\n",
       "      <td>15.2 kmpl</td>\n",
       "      <td>1968 CC</td>\n",
       "      <td>140.8 bhp</td>\n",
       "      <td>5.0</td>\n",
       "      <td>17.74</td>\n",
       "    </tr>\n",
       "  </tbody>\n",
       "</table>\n",
       "</div>"
      ],
      "text/plain": [
       "                               Name    Location  Year  Kilometers_Driven  \\\n",
       "0            Maruti Wagon R LXI CNG      Mumbai  2010              72000   \n",
       "1  Hyundai Creta 1.6 CRDi SX Option        Pune  2015              41000   \n",
       "2                      Honda Jazz V     Chennai  2011              46000   \n",
       "3                 Maruti Ertiga VDI     Chennai  2012              87000   \n",
       "4   Audi A4 New 2.0 TDI Multitronic  Coimbatore  2013              40670   \n",
       "\n",
       "  Fuel_Type Transmission Owner_Type     Mileage   Engine      Power  Seats  \\\n",
       "0       CNG       Manual      First  26.6 km/kg   998 CC  58.16 bhp    5.0   \n",
       "1    Diesel       Manual      First  19.67 kmpl  1582 CC  126.2 bhp    5.0   \n",
       "2    Petrol       Manual      First   18.2 kmpl  1199 CC   88.7 bhp    5.0   \n",
       "3    Diesel       Manual      First  20.77 kmpl  1248 CC  88.76 bhp    7.0   \n",
       "4    Diesel    Automatic     Second   15.2 kmpl  1968 CC  140.8 bhp    5.0   \n",
       "\n",
       "   Price  \n",
       "0   1.75  \n",
       "1  12.50  \n",
       "2   4.50  \n",
       "3   6.00  \n",
       "4  17.74  "
      ]
     },
     "execution_count": 37,
     "metadata": {},
     "output_type": "execute_result"
    }
   ],
   "source": [
    "import numpy as np\n",
    "import pandas as pd \n",
    "import matplotlib.pyplot as plt\n",
    "%matplotlib inline\n",
    "import seaborn as sns\n",
    "sns.set(style='darkgrid')\n",
    "\n",
    "\n",
    "data_train_path = (\"Data_Train.xlsx\")\n",
    "data_test_path = (\"Data_Test.xlsx\")\n",
    "\n",
    "data_train = pd.read_excel(data_train_path)\n",
    "data_test = pd.read_excel(data_test_path)\n",
    "data_train.head()"
   ]
  },
  {
   "cell_type": "markdown",
   "metadata": {
    "colab_type": "text",
    "id": "hjuLlJQtMS5D"
   },
   "source": [
    "## The Data-Preprocessing part"
   ]
  },
  {
   "cell_type": "code",
   "execution_count": 38,
   "metadata": {
    "colab": {
     "base_uri": "https://localhost:8080/",
     "height": 493
    },
    "colab_type": "code",
    "id": "NdpdnnE_KbBn",
    "outputId": "635b26cf-8af7-41cf-fb8f-fd47058971de"
   },
   "outputs": [
    {
     "name": "stdout",
     "output_type": "stream",
     "text": [
      "                                  Name    Location  Year  Kilometers_Driven  \\\n",
      "0               Maruti Wagon R LXI CNG      Mumbai  2010              72000   \n",
      "1     Hyundai Creta 1.6 CRDi SX Option        Pune  2015              41000   \n",
      "2                         Honda Jazz V     Chennai  2011              46000   \n",
      "3                    Maruti Ertiga VDI     Chennai  2012              87000   \n",
      "4      Audi A4 New 2.0 TDI Multitronic  Coimbatore  2013              40670   \n",
      "...                                ...         ...   ...                ...   \n",
      "6014                  Maruti Swift VDI       Delhi  2014              27365   \n",
      "6015          Hyundai Xcent 1.1 CRDi S      Jaipur  2015             100000   \n",
      "6016             Mahindra Xylo D4 BSIV      Jaipur  2012              55000   \n",
      "6017                Maruti Wagon R VXI     Kolkata  2013              46000   \n",
      "6018             Chevrolet Beat Diesel   Hyderabad  2011              47000   \n",
      "\n",
      "     Fuel_Type Transmission Owner_Type     Mileage   Engine      Power  Seats  \\\n",
      "0          CNG       Manual      First  26.6 km/kg   998 CC  58.16 bhp    5.0   \n",
      "1       Diesel       Manual      First  19.67 kmpl  1582 CC  126.2 bhp    5.0   \n",
      "2       Petrol       Manual      First   18.2 kmpl  1199 CC   88.7 bhp    5.0   \n",
      "3       Diesel       Manual      First  20.77 kmpl  1248 CC  88.76 bhp    7.0   \n",
      "4       Diesel    Automatic     Second   15.2 kmpl  1968 CC  140.8 bhp    5.0   \n",
      "...        ...          ...        ...         ...      ...        ...    ...   \n",
      "6014    Diesel       Manual      First   28.4 kmpl  1248 CC     74 bhp    5.0   \n",
      "6015    Diesel       Manual      First   24.4 kmpl  1120 CC     71 bhp    5.0   \n",
      "6016    Diesel       Manual     Second   14.0 kmpl  2498 CC    112 bhp    8.0   \n",
      "6017    Petrol       Manual      First   18.9 kmpl   998 CC   67.1 bhp    5.0   \n",
      "6018    Diesel       Manual      First  25.44 kmpl   936 CC   57.6 bhp    5.0   \n",
      "\n",
      "      Price  \n",
      "0      1.75  \n",
      "1     12.50  \n",
      "2      4.50  \n",
      "3      6.00  \n",
      "4     17.74  \n",
      "...     ...  \n",
      "6014   4.75  \n",
      "6015   4.00  \n",
      "6016   2.90  \n",
      "6017   2.65  \n",
      "6018   2.50  \n",
      "\n",
      "[6019 rows x 12 columns]\n",
      "                                                   Name    Location  Year  \\\n",
      "0                               Maruti Alto K10 LXI CNG       Delhi  2014   \n",
      "1                         Maruti Alto 800 2016-2019 LXI  Coimbatore  2013   \n",
      "2             Toyota Innova Crysta Touring Sport 2.4 MT      Mumbai  2017   \n",
      "3                                  Toyota Etios Liva GD   Hyderabad  2012   \n",
      "4                                     Hyundai i20 Magna      Mumbai  2014   \n",
      "...                                                 ...         ...   ...   \n",
      "1229                  Volkswagen Vento Diesel Trendline   Hyderabad  2011   \n",
      "1230                             Volkswagen Polo GT TSI      Mumbai  2015   \n",
      "1231                             Nissan Micra Diesel XV     Kolkata  2012   \n",
      "1232                             Volkswagen Polo GT TSI        Pune  2013   \n",
      "1233  Mercedes-Benz E-Class 2009-2013 E 220 CDI Avan...       Kochi  2014   \n",
      "\n",
      "      Kilometers_Driven Fuel_Type Transmission Owner_Type      Mileage  \\\n",
      "0                 40929       CNG       Manual      First  32.26 km/kg   \n",
      "1                 54493    Petrol       Manual     Second    24.7 kmpl   \n",
      "2                 34000    Diesel       Manual      First   13.68 kmpl   \n",
      "3                139000    Diesel       Manual      First   23.59 kmpl   \n",
      "4                 29000    Petrol       Manual      First    18.5 kmpl   \n",
      "...                 ...       ...          ...        ...          ...   \n",
      "1229              89411    Diesel       Manual      First   20.54 kmpl   \n",
      "1230              59000    Petrol    Automatic      First   17.21 kmpl   \n",
      "1231              28000    Diesel       Manual      First   23.08 kmpl   \n",
      "1232              52262    Petrol    Automatic      Third    17.2 kmpl   \n",
      "1233              72443    Diesel    Automatic      First    10.0 kmpl   \n",
      "\n",
      "       Engine      Power  Seats  \n",
      "0      998 CC   58.2 bhp    4.0  \n",
      "1      796 CC   47.3 bhp    5.0  \n",
      "2     2393 CC  147.8 bhp    7.0  \n",
      "3     1364 CC     74 bhp    5.0  \n",
      "4     1197 CC  82.85 bhp    5.0  \n",
      "...       ...        ...    ...  \n",
      "1229  1598 CC  103.6 bhp    5.0  \n",
      "1230  1197 CC  103.6 bhp    5.0  \n",
      "1231  1461 CC   63.1 bhp    5.0  \n",
      "1232  1197 CC  103.6 bhp    5.0  \n",
      "1233  2148 CC    170 bhp    5.0  \n",
      "\n",
      "[1234 rows x 11 columns]\n"
     ]
    }
   ],
   "source": [
    "df1 = data_train[data_train.isna().any(axis=1)]\n",
    "df2 = data_test[data_test.isna().any(axis=1)]\n",
    "\n",
    "# Null present as string in the data \n",
    "data_test_null_string = data_test[data_test['Power'].str.contains('null' , na = True)]\n",
    "\n",
    "\n",
    "columns_to_be_filled_with_NaN = [\"Power\"]\n",
    "\n",
    "def fill_columns_with_NaN(columns_to_be_filled_with_NaN):\n",
    "    for i in range (len(columns_to_be_filled_with_NaN)):    \n",
    "        data_train[columns_to_be_filled_with_NaN[i]] = data_train[columns_to_be_filled_with_NaN[i]].replace(to_replace=\"[null]\" , value = np.NaN , regex = True)\n",
    "        data_test[columns_to_be_filled_with_NaN[i]] = data_test[columns_to_be_filled_with_NaN[i]].replace(to_replace=\"[null]\" , value = np.NaN , regex = True)\n",
    "\n",
    "fill_columns_with_NaN(columns_to_be_filled_with_NaN)\n",
    "\n",
    "empty_cols_list_train = [\"Mileage\",\"Engine\",\"Power\",\"Seats\"] \n",
    "empty_cols_list_test = [\"Engine\",\"Power\",\"Seats\"] \n",
    "\n",
    "\n",
    "def my_Nan_filling_function(dataset , empty_cols_list):\n",
    "    for i in range(len(empty_cols_list)):\n",
    "        \n",
    "        # Replacing Nan with mean values\n",
    "        # dataset[empty_cols_list[i]].fillna(dataset[empty_cols_list[i]].mean , inplace = True)\n",
    "        \n",
    "        # Replacing Nan with mode values\n",
    "        dataset[empty_cols_list[i]].fillna(dataset[empty_cols_list[i]].mode()[0] , inplace = True)\n",
    "\n",
    "    print(dataset)\n",
    "\n",
    "my_Nan_filling_function(data_train , empty_cols_list_train)\n",
    "\n",
    "my_Nan_filling_function(data_test , empty_cols_list_test)\n",
    "\n",
    "list_of_columns_with_units = [\"Mileage\" , \"Engine\" , \"Power\"] \n",
    "\n",
    "def remove_units_from_columns(list_of_columns_with_units):\n",
    "    for i in range(len(list_of_columns_with_units)):\n",
    "        data_train[list_of_columns_with_units[i]] = data_train[list_of_columns_with_units[i]].str.split(\" \" , expand = True)\n",
    "        data_train[list_of_columns_with_units[i]] = data_train[list_of_columns_with_units[i]].astype(\"float\")\n",
    "        data_test[list_of_columns_with_units[i]] = data_test[list_of_columns_with_units[i]].str.split(\" \" , expand = True)\n",
    "        data_test[list_of_columns_with_units[i]] = data_test[list_of_columns_with_units[i]].astype(\"float\")\n",
    "\n",
    "remove_units_from_columns(list_of_columns_with_units)\n",
    "\n",
    "data_train[\"Year\"] = data_train[\"Year\"].astype(\"int32\" , copy = False)\n",
    "data_test[\"Year\"] = data_test[\"Year\"].astype(\"int32\" , copy = False)"
   ]
  },
  {
   "cell_type": "markdown",
   "metadata": {
    "colab_type": "text",
    "id": "zFcI62aCLgWB"
   },
   "source": [
    "## Removing the outliers part"
   ]
  },
  {
   "cell_type": "code",
   "execution_count": 39,
   "metadata": {
    "colab": {
     "base_uri": "https://localhost:8080/",
     "height": 85
    },
    "colab_type": "code",
    "id": "5ERJ0YO5Msvs",
    "outputId": "50a7e486-1601-4b66-d71f-fdcb4a620d34"
   },
   "outputs": [
    {
     "name": "stdout",
     "output_type": "stream",
     "text": [
      "['Year', 'Kilometers_Driven', 'Mileage', 'Engine', 'Power', 'Seats', 'Price']\n",
      "['Year', 'Kilometers_Driven', 'Mileage', 'Engine', 'Power', 'Seats']\n",
      "(6019, 12)\n",
      "(5903, 12)\n"
     ]
    }
   ],
   "source": [
    "def get_numerical_features(dataset):\n",
    "    df = dataset\n",
    "    df_numerics_only = df.select_dtypes(include=np.number)\n",
    "    # print(df_numerics_only)\n",
    "    colnames_numerics_only = df.select_dtypes(include=np.number).columns.tolist()\n",
    "    # print(colnames_numerics_only)\n",
    "    return colnames_numerics_only\n",
    "\n",
    "df_train = get_numerical_features(data_train)\n",
    "print(df_train)\n",
    "\n",
    "df_test = get_numerical_features(data_test)\n",
    "print(df_test)\n",
    "\n",
    "print(data_train.shape)\n",
    "\n",
    "remove_train_outliers_list = df_train\n",
    "remove_test_outliers_list = df_test\n",
    "\n",
    "def remove_outliers(dataset , remove_outliers_list):\n",
    "    # Iterating across the list of numerical categories for which the outliers have to be removed\n",
    "    for i in range(len(remove_outliers_list)):\n",
    "        # Change the value of the outlier criterion for better results\n",
    "        dataset.drop(dataset[dataset[remove_outliers_list[i]] >=( 0.99999 * dataset[remove_outliers_list[i]].max()) ].index, inplace = True )\n",
    "\n",
    "remove_outliers(data_train , remove_train_outliers_list)\n",
    "remove_outliers(data_test , remove_test_outliers_list)\n",
    "\n",
    "print(data_train.shape)"
   ]
  },
  {
   "cell_type": "markdown",
   "metadata": {
    "colab_type": "text",
    "id": "v3KNoT53NIPb"
   },
   "source": [
    "## Skipping the EDA part (in the other notebook)"
   ]
  },
  {
   "cell_type": "code",
   "execution_count": 6,
   "metadata": {
    "colab": {
     "base_uri": "https://localhost:8080/",
     "height": 34
    },
    "colab_type": "code",
    "id": "GzQXR_U0AOqr",
    "outputId": "7d4a255e-6a7f-423e-cf78-723c664f653f"
   },
   "outputs": [
    {
     "data": {
      "text/plain": [
       "' Only Numerical Features of test data  '"
      ]
     },
     "execution_count": 6,
     "metadata": {},
     "output_type": "execute_result"
    }
   ],
   "source": [
    "\"\"\"\n",
    " Summary of some of the vairables\n",
    "\"\"\"\n",
    "\n",
    "'''Actual train data '''\n",
    "# data_train  \n",
    "'''Actual train data xlsx file '''\n",
    "# data_train_path   \n",
    "'''Actual train data csv file '''\n",
    "# data_train_csv_path \n",
    "''' Only Numerical Features of train data  '''\n",
    "# df_train  \n",
    "\n",
    "\n",
    "'''Actual test data '''\n",
    "# data_test  \n",
    "'''Actual test data xlsx file '''\n",
    "# data_test_path   \n",
    "'''Actual test data csv file '''\n",
    "# data_test_csv_path \n",
    "''' Only Numerical Features of test data  '''\n",
    "# df_test  \n"
   ]
  },
  {
   "cell_type": "markdown",
   "metadata": {
    "colab_type": "text",
    "id": "5eDL4KXYoHJM"
   },
   "source": [
    "# Feature Engineering and Feature Selection"
   ]
  },
  {
   "cell_type": "markdown",
   "metadata": {
    "colab_type": "text",
    "id": "zNFf_a5AoHPF"
   },
   "source": [
    "### Univariate Feature Selection\n",
    "\n",
    "- Constant, Quasi-Constant and Duplicate Feature Removal\n"
   ]
  },
  {
   "cell_type": "code",
   "execution_count": 7,
   "metadata": {
    "colab": {},
    "colab_type": "code",
    "id": "9TSqTlcCoHR7"
   },
   "outputs": [],
   "source": [
    "import pandas as pd\n",
    "import matplotlib.pyplot as plt\n",
    "%matplotlib inline\n",
    "import seaborn as sns\n",
    "\n",
    "from sklearn.model_selection import train_test_split\n",
    "from sklearn.ensemble import RandomForestClassifier,RandomForestRegressor\n",
    "from sklearn.metrics import accuracy_score\n",
    "from sklearn.feature_selection import VarianceThreshold"
   ]
  },
  {
   "cell_type": "code",
   "execution_count": 8,
   "metadata": {
    "colab": {
     "base_uri": "https://localhost:8080/",
     "height": 394
    },
    "colab_type": "code",
    "id": "6FIwGJtroHVM",
    "outputId": "9818053c-cc89-4184-db77-d57f6f27b330"
   },
   "outputs": [
    {
     "data": {
      "text/html": [
       "<div>\n",
       "<style scoped>\n",
       "    .dataframe tbody tr th:only-of-type {\n",
       "        vertical-align: middle;\n",
       "    }\n",
       "\n",
       "    .dataframe tbody tr th {\n",
       "        vertical-align: top;\n",
       "    }\n",
       "\n",
       "    .dataframe thead th {\n",
       "        text-align: right;\n",
       "    }\n",
       "</style>\n",
       "<table border=\"1\" class=\"dataframe\">\n",
       "  <thead>\n",
       "    <tr style=\"text-align: right;\">\n",
       "      <th></th>\n",
       "      <th>Name</th>\n",
       "      <th>Location</th>\n",
       "      <th>Year</th>\n",
       "      <th>Kilometers_Driven</th>\n",
       "      <th>Fuel_Type</th>\n",
       "      <th>Transmission</th>\n",
       "      <th>Owner_Type</th>\n",
       "      <th>Mileage</th>\n",
       "      <th>Engine</th>\n",
       "      <th>Power</th>\n",
       "      <th>Seats</th>\n",
       "      <th>Price</th>\n",
       "    </tr>\n",
       "  </thead>\n",
       "  <tbody>\n",
       "    <tr>\n",
       "      <th>0</th>\n",
       "      <td>Maruti Wagon R LXI CNG</td>\n",
       "      <td>Mumbai</td>\n",
       "      <td>2010</td>\n",
       "      <td>72000</td>\n",
       "      <td>CNG</td>\n",
       "      <td>Manual</td>\n",
       "      <td>First</td>\n",
       "      <td>26.60</td>\n",
       "      <td>998.0</td>\n",
       "      <td>58.16</td>\n",
       "      <td>5.0</td>\n",
       "      <td>1.75</td>\n",
       "    </tr>\n",
       "    <tr>\n",
       "      <th>1</th>\n",
       "      <td>Hyundai Creta 1.6 CRDi SX Option</td>\n",
       "      <td>Pune</td>\n",
       "      <td>2015</td>\n",
       "      <td>41000</td>\n",
       "      <td>Diesel</td>\n",
       "      <td>Manual</td>\n",
       "      <td>First</td>\n",
       "      <td>19.67</td>\n",
       "      <td>1582.0</td>\n",
       "      <td>126.20</td>\n",
       "      <td>5.0</td>\n",
       "      <td>12.50</td>\n",
       "    </tr>\n",
       "    <tr>\n",
       "      <th>2</th>\n",
       "      <td>Honda Jazz V</td>\n",
       "      <td>Chennai</td>\n",
       "      <td>2011</td>\n",
       "      <td>46000</td>\n",
       "      <td>Petrol</td>\n",
       "      <td>Manual</td>\n",
       "      <td>First</td>\n",
       "      <td>18.20</td>\n",
       "      <td>1199.0</td>\n",
       "      <td>88.70</td>\n",
       "      <td>5.0</td>\n",
       "      <td>4.50</td>\n",
       "    </tr>\n",
       "    <tr>\n",
       "      <th>3</th>\n",
       "      <td>Maruti Ertiga VDI</td>\n",
       "      <td>Chennai</td>\n",
       "      <td>2012</td>\n",
       "      <td>87000</td>\n",
       "      <td>Diesel</td>\n",
       "      <td>Manual</td>\n",
       "      <td>First</td>\n",
       "      <td>20.77</td>\n",
       "      <td>1248.0</td>\n",
       "      <td>88.76</td>\n",
       "      <td>7.0</td>\n",
       "      <td>6.00</td>\n",
       "    </tr>\n",
       "    <tr>\n",
       "      <th>4</th>\n",
       "      <td>Audi A4 New 2.0 TDI Multitronic</td>\n",
       "      <td>Coimbatore</td>\n",
       "      <td>2013</td>\n",
       "      <td>40670</td>\n",
       "      <td>Diesel</td>\n",
       "      <td>Automatic</td>\n",
       "      <td>Second</td>\n",
       "      <td>15.20</td>\n",
       "      <td>1968.0</td>\n",
       "      <td>140.80</td>\n",
       "      <td>5.0</td>\n",
       "      <td>17.74</td>\n",
       "    </tr>\n",
       "  </tbody>\n",
       "</table>\n",
       "</div>"
      ],
      "text/plain": [
       "                               Name    Location  Year  Kilometers_Driven  \\\n",
       "0            Maruti Wagon R LXI CNG      Mumbai  2010              72000   \n",
       "1  Hyundai Creta 1.6 CRDi SX Option        Pune  2015              41000   \n",
       "2                      Honda Jazz V     Chennai  2011              46000   \n",
       "3                 Maruti Ertiga VDI     Chennai  2012              87000   \n",
       "4   Audi A4 New 2.0 TDI Multitronic  Coimbatore  2013              40670   \n",
       "\n",
       "  Fuel_Type Transmission Owner_Type  Mileage  Engine   Power  Seats  Price  \n",
       "0       CNG       Manual      First    26.60   998.0   58.16    5.0   1.75  \n",
       "1    Diesel       Manual      First    19.67  1582.0  126.20    5.0  12.50  \n",
       "2    Petrol       Manual      First    18.20  1199.0   88.70    5.0   4.50  \n",
       "3    Diesel       Manual      First    20.77  1248.0   88.76    7.0   6.00  \n",
       "4    Diesel    Automatic     Second    15.20  1968.0  140.80    5.0  17.74  "
      ]
     },
     "execution_count": 8,
     "metadata": {},
     "output_type": "execute_result"
    }
   ],
   "source": [
    "data_train.head()"
   ]
  },
  {
   "cell_type": "code",
   "execution_count": 9,
   "metadata": {
    "colab": {
     "base_uri": "https://localhost:8080/",
     "height": 34
    },
    "colab_type": "code",
    "id": "DZy6dfdYoHX2",
    "outputId": "62b862e3-8aad-4bbf-9ede-9b35f8a49e90"
   },
   "outputs": [
    {
     "data": {
      "text/plain": [
       "((5903, 6), (5903,))"
      ]
     },
     "execution_count": 9,
     "metadata": {},
     "output_type": "execute_result"
    }
   ],
   "source": [
    "'''\n",
    "CONSTANT FEATURES REMOVAL\n",
    " Dropping Categorical variables Temporarily\n",
    " This is necessary for this particaular feature selection method\n",
    "'''\n",
    "X = data_train.drop([\"Name\",\"Location\",\"Fuel_Type\", \"Transmission\" , \"Owner_Type\" ,  \"Price\"] , axis = 1)\n",
    "y = data_train[\"Price\"]\n",
    "\n",
    "X.shape , y.shape"
   ]
  },
  {
   "cell_type": "code",
   "execution_count": 10,
   "metadata": {
    "colab": {
     "base_uri": "https://localhost:8080/",
     "height": 34
    },
    "colab_type": "code",
    "id": "0pu5AfIroHa6",
    "outputId": "da7e27b1-b1e1-4381-9e98-eb49a2ea61ec"
   },
   "outputs": [
    {
     "data": {
      "text/plain": [
       "((4722, 6), (1181, 6), (4722,), (1181,))"
      ]
     },
     "execution_count": 10,
     "metadata": {},
     "output_type": "execute_result"
    }
   ],
   "source": [
    "X_train , X_test , y_train , y_test = train_test_split(X , y , test_size = 0.2 , random_state = 0 )\n",
    "X_train.shape , X_test.shape , y_train.shape , y_test.shape "
   ]
  },
  {
   "cell_type": "code",
   "execution_count": 12,
   "metadata": {
    "colab": {
     "base_uri": "https://localhost:8080/",
     "height": 34
    },
    "colab_type": "code",
    "id": "L_psXVnnoHhR",
    "outputId": "3a435210-ee32-4a3a-b422-703248187cce"
   },
   "outputs": [
    {
     "data": {
      "text/plain": [
       "6"
      ]
     },
     "execution_count": 12,
     "metadata": {},
     "output_type": "execute_result"
    }
   ],
   "source": [
    "# Removing the constant features\n",
    "constant_filter.get_support().sum()"
   ]
  },
  {
   "cell_type": "code",
   "execution_count": 13,
   "metadata": {
    "colab": {
     "base_uri": "https://localhost:8080/",
     "height": 34
    },
    "colab_type": "code",
    "id": "JheXzgxQDfG2",
    "outputId": "2171719d-c763-4d45-99d7-ff4604855a7a"
   },
   "outputs": [
    {
     "name": "stdout",
     "output_type": "stream",
     "text": [
      "[False, False, False, False, False, False]\n"
     ]
    }
   ],
   "source": [
    "# inverting the filter list\n",
    "constant_list = [not temp for temp in constant_filter.get_support()]\n",
    "print(constant_list)"
   ]
  },
  {
   "cell_type": "code",
   "execution_count": 14,
   "metadata": {
    "colab": {
     "base_uri": "https://localhost:8080/",
     "height": 34
    },
    "colab_type": "code",
    "id": "KGFr4NeYDfKJ",
    "outputId": "48b65749-1d91-4f64-92d9-d973336c7d33"
   },
   "outputs": [
    {
     "data": {
      "text/plain": [
       "Index([], dtype='object')"
      ]
     },
     "execution_count": 14,
     "metadata": {},
     "output_type": "execute_result"
    }
   ],
   "source": [
    "# Printing the list of constant features\n",
    "X.columns[constant_list]"
   ]
  },
  {
   "cell_type": "code",
   "execution_count": 15,
   "metadata": {
    "colab": {},
    "colab_type": "code",
    "id": "qOI9tf-8DfNP"
   },
   "outputs": [],
   "source": [
    "'''\n",
    " Transforming the dataset into non-constant feaure space\n",
    " Bascially removing the constant features\n",
    " done to prevent overfitting of the model\n",
    " '''\n",
    "X_train_filter = constant_filter.transform(X_train)\n",
    "X_test_filter = constant_filter.transform(X_test)"
   ]
  },
  {
   "cell_type": "code",
   "execution_count": 16,
   "metadata": {
    "colab": {
     "base_uri": "https://localhost:8080/",
     "height": 34
    },
    "colab_type": "code",
    "id": "PFO25sXUDfQQ",
    "outputId": "2c46c641-e365-4dca-e82c-53ab2e6d1fea"
   },
   "outputs": [
    {
     "data": {
      "text/plain": [
       "((4722, 6), (1181, 6), (4722, 6), (1181, 6))"
      ]
     },
     "execution_count": 16,
     "metadata": {},
     "output_type": "execute_result"
    }
   ],
   "source": [
    "X_train_filter.shape, X_test_filter.shape, X_train.shape , X_test.shape"
   ]
  },
  {
   "cell_type": "code",
   "execution_count": 17,
   "metadata": {
    "colab": {},
    "colab_type": "code",
    "id": "pRjzOk3CDfTT"
   },
   "outputs": [],
   "source": [
    "'''\n",
    "QUASI CONSTANT FEATURE REMOVAL\n",
    "Removing feature almost constant or somewhat near to constant(Quasi Constant)\n",
    "'''\n",
    "# This method removes features with variation below a certain cutoff.\n",
    "quasi_constant_filter = VarianceThreshold(threshold = 0.01)"
   ]
  },
  {
   "cell_type": "code",
   "execution_count": 18,
   "metadata": {
    "colab": {
     "base_uri": "https://localhost:8080/",
     "height": 34
    },
    "colab_type": "code",
    "id": "qjQltcmrDfWe",
    "outputId": "3c55e46c-9aac-4ccb-e5b1-eb729df081ef"
   },
   "outputs": [
    {
     "data": {
      "text/plain": [
       "VarianceThreshold(threshold=0.01)"
      ]
     },
     "execution_count": 18,
     "metadata": {},
     "output_type": "execute_result"
    }
   ],
   "source": [
    "quasi_constant_filter.fit(X_train_filter)"
   ]
  },
  {
   "cell_type": "code",
   "execution_count": 19,
   "metadata": {
    "colab": {
     "base_uri": "https://localhost:8080/",
     "height": 34
    },
    "colab_type": "code",
    "id": "sg-CybF9DfZX",
    "outputId": "8a95d0ff-3af0-4817-d852-7ec2773967d8"
   },
   "outputs": [
    {
     "data": {
      "text/plain": [
       "6"
      ]
     },
     "execution_count": 19,
     "metadata": {},
     "output_type": "execute_result"
    }
   ],
   "source": [
    "quasi_constant_filter.get_support().sum()"
   ]
  },
  {
   "cell_type": "code",
   "execution_count": 20,
   "metadata": {
    "colab": {
     "base_uri": "https://localhost:8080/",
     "height": 34
    },
    "colab_type": "code",
    "id": "fdU6emQfDfck",
    "outputId": "1b1cc641-37ce-42d0-c9d4-a9779825c0b5"
   },
   "outputs": [
    {
     "data": {
      "text/plain": [
       "((4722, 6), (1181, 6), (4722, 6), (1181, 6), (4722, 6), (1181, 6))"
      ]
     },
     "execution_count": 20,
     "metadata": {},
     "output_type": "execute_result"
    }
   ],
   "source": [
    "X_train_quasi_filter = quasi_constant_filter.transform(X_train_filter)\n",
    "X_test_quasi_filter = quasi_constant_filter.transform(X_test_filter)\n",
    "X_train.shape,X_test.shape,X_train_filter.shape,X_test_filter.shape, X_train_quasi_filter.shape,X_test_quasi_filter.shape"
   ]
  },
  {
   "cell_type": "code",
   "execution_count": 43,
   "metadata": {},
   "outputs": [
    {
     "data": {
      "text/html": [
       "<div>\n",
       "<style scoped>\n",
       "    .dataframe tbody tr th:only-of-type {\n",
       "        vertical-align: middle;\n",
       "    }\n",
       "\n",
       "    .dataframe tbody tr th {\n",
       "        vertical-align: top;\n",
       "    }\n",
       "\n",
       "    .dataframe thead th {\n",
       "        text-align: right;\n",
       "    }\n",
       "</style>\n",
       "<table border=\"1\" class=\"dataframe\">\n",
       "  <thead>\n",
       "    <tr style=\"text-align: right;\">\n",
       "      <th></th>\n",
       "      <th>0</th>\n",
       "      <th>1</th>\n",
       "      <th>2</th>\n",
       "      <th>3</th>\n",
       "      <th>4</th>\n",
       "      <th>5</th>\n",
       "      <th>6</th>\n",
       "      <th>7</th>\n",
       "      <th>8</th>\n",
       "      <th>9</th>\n",
       "      <th>...</th>\n",
       "      <th>4712</th>\n",
       "      <th>4713</th>\n",
       "      <th>4714</th>\n",
       "      <th>4715</th>\n",
       "      <th>4716</th>\n",
       "      <th>4717</th>\n",
       "      <th>4718</th>\n",
       "      <th>4719</th>\n",
       "      <th>4720</th>\n",
       "      <th>4721</th>\n",
       "    </tr>\n",
       "  </thead>\n",
       "  <tbody>\n",
       "    <tr>\n",
       "      <th>0</th>\n",
       "      <td>2011.0</td>\n",
       "      <td>2015.00</td>\n",
       "      <td>2007.0</td>\n",
       "      <td>2012.0</td>\n",
       "      <td>2009.0</td>\n",
       "      <td>2017.00</td>\n",
       "      <td>2014.0</td>\n",
       "      <td>2010.0</td>\n",
       "      <td>2017.0</td>\n",
       "      <td>2014.00</td>\n",
       "      <td>...</td>\n",
       "      <td>2008.00</td>\n",
       "      <td>2015.00</td>\n",
       "      <td>2013.00</td>\n",
       "      <td>2002.0</td>\n",
       "      <td>2012.00</td>\n",
       "      <td>2013.00</td>\n",
       "      <td>2013.0</td>\n",
       "      <td>2017.00</td>\n",
       "      <td>2012.00</td>\n",
       "      <td>2014.0</td>\n",
       "    </tr>\n",
       "    <tr>\n",
       "      <th>1</th>\n",
       "      <td>68000.0</td>\n",
       "      <td>39208.00</td>\n",
       "      <td>79000.0</td>\n",
       "      <td>47629.0</td>\n",
       "      <td>42000.0</td>\n",
       "      <td>35000.00</td>\n",
       "      <td>71649.0</td>\n",
       "      <td>38000.0</td>\n",
       "      <td>38056.0</td>\n",
       "      <td>34233.00</td>\n",
       "      <td>...</td>\n",
       "      <td>86000.00</td>\n",
       "      <td>57266.00</td>\n",
       "      <td>69000.00</td>\n",
       "      <td>75000.0</td>\n",
       "      <td>52000.00</td>\n",
       "      <td>30852.00</td>\n",
       "      <td>43000.0</td>\n",
       "      <td>47357.00</td>\n",
       "      <td>60000.00</td>\n",
       "      <td>62497.0</td>\n",
       "    </tr>\n",
       "    <tr>\n",
       "      <th>2</th>\n",
       "      <td>17.0</td>\n",
       "      <td>17.57</td>\n",
       "      <td>17.0</td>\n",
       "      <td>15.1</td>\n",
       "      <td>13.0</td>\n",
       "      <td>18.19</td>\n",
       "      <td>25.1</td>\n",
       "      <td>18.5</td>\n",
       "      <td>23.9</td>\n",
       "      <td>14.21</td>\n",
       "      <td>...</td>\n",
       "      <td>13.93</td>\n",
       "      <td>20.50</td>\n",
       "      <td>22.70</td>\n",
       "      <td>0.0</td>\n",
       "      <td>15.26</td>\n",
       "      <td>22.74</td>\n",
       "      <td>20.5</td>\n",
       "      <td>18.49</td>\n",
       "      <td>19.81</td>\n",
       "      <td>15.8</td>\n",
       "    </tr>\n",
       "    <tr>\n",
       "      <th>3</th>\n",
       "      <td>1497.0</td>\n",
       "      <td>1193.00</td>\n",
       "      <td>1086.0</td>\n",
       "      <td>2179.0</td>\n",
       "      <td>2987.0</td>\n",
       "      <td>1968.00</td>\n",
       "      <td>1498.0</td>\n",
       "      <td>1197.0</td>\n",
       "      <td>1582.0</td>\n",
       "      <td>2143.00</td>\n",
       "      <td>...</td>\n",
       "      <td>2179.00</td>\n",
       "      <td>1248.00</td>\n",
       "      <td>1498.00</td>\n",
       "      <td>2112.0</td>\n",
       "      <td>2143.00</td>\n",
       "      <td>796.00</td>\n",
       "      <td>1598.0</td>\n",
       "      <td>1493.00</td>\n",
       "      <td>1086.00</td>\n",
       "      <td>1499.0</td>\n",
       "    </tr>\n",
       "    <tr>\n",
       "      <th>4</th>\n",
       "      <td>118.0</td>\n",
       "      <td>88.70</td>\n",
       "      <td>74.0</td>\n",
       "      <td>140.0</td>\n",
       "      <td>210.0</td>\n",
       "      <td>174.50</td>\n",
       "      <td>98.6</td>\n",
       "      <td>80.0</td>\n",
       "      <td>126.2</td>\n",
       "      <td>203.00</td>\n",
       "      <td>...</td>\n",
       "      <td>138.00</td>\n",
       "      <td>91.72</td>\n",
       "      <td>89.84</td>\n",
       "      <td>74.0</td>\n",
       "      <td>203.20</td>\n",
       "      <td>47.30</td>\n",
       "      <td>105.0</td>\n",
       "      <td>100.00</td>\n",
       "      <td>68.05</td>\n",
       "      <td>110.0</td>\n",
       "    </tr>\n",
       "    <tr>\n",
       "      <th>5</th>\n",
       "      <td>5.0</td>\n",
       "      <td>5.00</td>\n",
       "      <td>5.0</td>\n",
       "      <td>7.0</td>\n",
       "      <td>5.0</td>\n",
       "      <td>5.00</td>\n",
       "      <td>5.0</td>\n",
       "      <td>5.0</td>\n",
       "      <td>5.0</td>\n",
       "      <td>5.00</td>\n",
       "      <td>...</td>\n",
       "      <td>7.00</td>\n",
       "      <td>5.00</td>\n",
       "      <td>5.00</td>\n",
       "      <td>6.0</td>\n",
       "      <td>5.00</td>\n",
       "      <td>5.00</td>\n",
       "      <td>5.0</td>\n",
       "      <td>7.00</td>\n",
       "      <td>5.00</td>\n",
       "      <td>5.0</td>\n",
       "    </tr>\n",
       "  </tbody>\n",
       "</table>\n",
       "<p>6 rows × 4722 columns</p>\n",
       "</div>"
      ],
      "text/plain": [
       "      0         1        2        3        4         5        6        7     \\\n",
       "0   2011.0   2015.00   2007.0   2012.0   2009.0   2017.00   2014.0   2010.0   \n",
       "1  68000.0  39208.00  79000.0  47629.0  42000.0  35000.00  71649.0  38000.0   \n",
       "2     17.0     17.57     17.0     15.1     13.0     18.19     25.1     18.5   \n",
       "3   1497.0   1193.00   1086.0   2179.0   2987.0   1968.00   1498.0   1197.0   \n",
       "4    118.0     88.70     74.0    140.0    210.0    174.50     98.6     80.0   \n",
       "5      5.0      5.00      5.0      7.0      5.0      5.00      5.0      5.0   \n",
       "\n",
       "      8         9     ...      4712      4713      4714     4715      4716  \\\n",
       "0   2017.0   2014.00  ...   2008.00   2015.00   2013.00   2002.0   2012.00   \n",
       "1  38056.0  34233.00  ...  86000.00  57266.00  69000.00  75000.0  52000.00   \n",
       "2     23.9     14.21  ...     13.93     20.50     22.70      0.0     15.26   \n",
       "3   1582.0   2143.00  ...   2179.00   1248.00   1498.00   2112.0   2143.00   \n",
       "4    126.2    203.00  ...    138.00     91.72     89.84     74.0    203.20   \n",
       "5      5.0      5.00  ...      7.00      5.00      5.00      6.0      5.00   \n",
       "\n",
       "       4717     4718      4719      4720     4721  \n",
       "0   2013.00   2013.0   2017.00   2012.00   2014.0  \n",
       "1  30852.00  43000.0  47357.00  60000.00  62497.0  \n",
       "2     22.74     20.5     18.49     19.81     15.8  \n",
       "3    796.00   1598.0   1493.00   1086.00   1499.0  \n",
       "4     47.30    105.0    100.00     68.05    110.0  \n",
       "5      5.00      5.0      7.00      5.00      5.0  \n",
       "\n",
       "[6 rows x 4722 columns]"
      ]
     },
     "execution_count": 43,
     "metadata": {},
     "output_type": "execute_result"
    }
   ],
   "source": [
    "X_train_T"
   ]
  },
  {
   "cell_type": "code",
   "execution_count": 21,
   "metadata": {
    "colab": {
     "base_uri": "https://localhost:8080/",
     "height": 34
    },
    "colab_type": "code",
    "id": "Dqj7yNoBDffn",
    "outputId": "d632d54b-62a5-47f7-b50a-a009fee47f51"
   },
   "outputs": [
    {
     "data": {
      "text/plain": [
       "(numpy.ndarray, numpy.ndarray)"
      ]
     },
     "execution_count": 21,
     "metadata": {},
     "output_type": "execute_result"
    }
   ],
   "source": [
    "'''\n",
    "DUPLICATE FEATURE REMOVAL\n",
    "'''\n",
    "X_train_T = X_train_quasi_filter.T\n",
    "X_test_T = X_test_quasi_filter.T\n",
    "type(X_train_T),type(X_test_T)"
   ]
  },
  {
   "cell_type": "code",
   "execution_count": 22,
   "metadata": {
    "colab": {
     "base_uri": "https://localhost:8080/",
     "height": 34
    },
    "colab_type": "code",
    "id": "QtpF6CrxDfij",
    "outputId": "69aedb5f-42c0-4e78-96f9-87e6cd863907"
   },
   "outputs": [
    {
     "data": {
      "text/plain": [
       "((6, 4722), (6, 1181))"
      ]
     },
     "execution_count": 22,
     "metadata": {},
     "output_type": "execute_result"
    }
   ],
   "source": [
    "# Changing it back to Pandas Dataframe\n",
    "X_train_T = pd.DataFrame(X_train_T)\n",
    "X_test_T = pd.DataFrame(X_test_T)\n",
    "X_train_T.shape , X_test_T.shape"
   ]
  },
  {
   "cell_type": "code",
   "execution_count": 23,
   "metadata": {
    "colab": {
     "base_uri": "https://localhost:8080/",
     "height": 34
    },
    "colab_type": "code",
    "id": "jX5QNpfqDflW",
    "outputId": "30e6b50a-f34c-49dc-fd4f-d7eaf1b83157"
   },
   "outputs": [
    {
     "data": {
      "text/plain": [
       "0"
      ]
     },
     "execution_count": 23,
     "metadata": {},
     "output_type": "execute_result"
    }
   ],
   "source": [
    "X_train_T.duplicated().sum()"
   ]
  },
  {
   "cell_type": "code",
   "execution_count": 24,
   "metadata": {
    "colab": {
     "base_uri": "https://localhost:8080/",
     "height": 136
    },
    "colab_type": "code",
    "id": "C5LvEf_lDfn9",
    "outputId": "0668db0d-0309-4ff4-9206-af1253c7918f"
   },
   "outputs": [
    {
     "name": "stdout",
     "output_type": "stream",
     "text": [
      "0    False\n",
      "1    False\n",
      "2    False\n",
      "3    False\n",
      "4    False\n",
      "5    False\n",
      "dtype: bool\n"
     ]
    }
   ],
   "source": [
    "# Finding the duplicated features\n",
    "duplicated_features = X_train_T.duplicated()\n",
    "print(duplicated_features)"
   ]
  },
  {
   "cell_type": "code",
   "execution_count": 25,
   "metadata": {
    "colab": {
     "base_uri": "https://localhost:8080/",
     "height": 34
    },
    "colab_type": "code",
    "id": "dmIcXioYGNgF",
    "outputId": "53442f56-af3c-460f-b550-aff50d0bb465"
   },
   "outputs": [
    {
     "name": "stdout",
     "output_type": "stream",
     "text": [
      "[True, True, True, True, True, True]\n"
     ]
    }
   ],
   "source": [
    "# Inverting the dupkicated list to find the features to keep\n",
    "features_to_keep = [not index for index in duplicated_features]\n",
    "print(features_to_keep)"
   ]
  },
  {
   "cell_type": "code",
   "execution_count": 26,
   "metadata": {
    "colab": {
     "base_uri": "https://localhost:8080/",
     "height": 34
    },
    "colab_type": "code",
    "id": "t0QyyI8YGNja",
    "outputId": "17210a7b-bd1c-4f99-af88-19ea115354d5"
   },
   "outputs": [
    {
     "data": {
      "text/plain": [
       "((4722, 6), (4722, 6))"
      ]
     },
     "execution_count": 26,
     "metadata": {},
     "output_type": "execute_result"
    }
   ],
   "source": [
    "# After removing constant , quasi-constant and duplicate features\n",
    "X_train_unique = X_train_T[features_to_keep].T\n",
    "X_test_unique = X_test_T[features_to_keep].T\n",
    "X_train_unique.shape,X_train.shape"
   ]
  },
  {
   "cell_type": "code",
   "execution_count": 27,
   "metadata": {
    "colab": {
     "base_uri": "https://localhost:8080/",
     "height": 34
    },
    "colab_type": "code",
    "id": "5sr7c7YbGNmU",
    "outputId": "d8a8b4c5-0406-482a-ec42-4fa4cb1aef52"
   },
   "outputs": [
    {
     "data": {
      "text/plain": [
       "'\\nUNFORTUNATELY,there are:\\n0 constant\\n0 quasi-constant \\n0 duplicate features\\n'"
      ]
     },
     "execution_count": 27,
     "metadata": {},
     "output_type": "execute_result"
    }
   ],
   "source": [
    "'''\n",
    "UNFORTUNATELY,there are:\n",
    "0 constant\n",
    "0 quasi-constant \n",
    "0 duplicate features\n",
    "'''"
   ]
  },
  {
   "cell_type": "code",
   "execution_count": 28,
   "metadata": {
    "colab": {},
    "colab_type": "code",
    "id": "x1sggTveZGg7"
   },
   "outputs": [],
   "source": [
    "import sklearn\n",
    "from sklearn import linear_model\n",
    "from sklearn.linear_model import LinearRegression\n",
    "from sklearn.metrics import accuracy_score\n",
    "from sklearn.metrics import mean_absolute_error , mean_squared_error , r2_score"
   ]
  },
  {
   "cell_type": "code",
   "execution_count": 29,
   "metadata": {
    "colab": {
     "base_uri": "https://localhost:8080/",
     "height": 419
    },
    "colab_type": "code",
    "id": "dI5I-P2lpDln",
    "outputId": "47bf89c4-6e0f-406b-f361-4243b1b66002"
   },
   "outputs": [
    {
     "data": {
      "text/html": [
       "<div>\n",
       "<style scoped>\n",
       "    .dataframe tbody tr th:only-of-type {\n",
       "        vertical-align: middle;\n",
       "    }\n",
       "\n",
       "    .dataframe tbody tr th {\n",
       "        vertical-align: top;\n",
       "    }\n",
       "\n",
       "    .dataframe thead th {\n",
       "        text-align: right;\n",
       "    }\n",
       "</style>\n",
       "<table border=\"1\" class=\"dataframe\">\n",
       "  <thead>\n",
       "    <tr style=\"text-align: right;\">\n",
       "      <th></th>\n",
       "      <th>Year</th>\n",
       "      <th>Kilometers_Driven</th>\n",
       "      <th>Mileage</th>\n",
       "      <th>Engine</th>\n",
       "      <th>Power</th>\n",
       "      <th>Seats</th>\n",
       "    </tr>\n",
       "  </thead>\n",
       "  <tbody>\n",
       "    <tr>\n",
       "      <th>1862</th>\n",
       "      <td>2011</td>\n",
       "      <td>68000</td>\n",
       "      <td>17.00</td>\n",
       "      <td>1497.0</td>\n",
       "      <td>118.00</td>\n",
       "      <td>5.0</td>\n",
       "    </tr>\n",
       "    <tr>\n",
       "      <th>5181</th>\n",
       "      <td>2015</td>\n",
       "      <td>39208</td>\n",
       "      <td>17.57</td>\n",
       "      <td>1193.0</td>\n",
       "      <td>88.70</td>\n",
       "      <td>5.0</td>\n",
       "    </tr>\n",
       "    <tr>\n",
       "      <th>5861</th>\n",
       "      <td>2007</td>\n",
       "      <td>79000</td>\n",
       "      <td>17.00</td>\n",
       "      <td>1086.0</td>\n",
       "      <td>74.00</td>\n",
       "      <td>5.0</td>\n",
       "    </tr>\n",
       "    <tr>\n",
       "      <th>4805</th>\n",
       "      <td>2012</td>\n",
       "      <td>47629</td>\n",
       "      <td>15.10</td>\n",
       "      <td>2179.0</td>\n",
       "      <td>140.00</td>\n",
       "      <td>7.0</td>\n",
       "    </tr>\n",
       "    <tr>\n",
       "      <th>1477</th>\n",
       "      <td>2009</td>\n",
       "      <td>42000</td>\n",
       "      <td>13.00</td>\n",
       "      <td>2987.0</td>\n",
       "      <td>210.00</td>\n",
       "      <td>5.0</td>\n",
       "    </tr>\n",
       "    <tr>\n",
       "      <th>...</th>\n",
       "      <td>...</td>\n",
       "      <td>...</td>\n",
       "      <td>...</td>\n",
       "      <td>...</td>\n",
       "      <td>...</td>\n",
       "      <td>...</td>\n",
       "    </tr>\n",
       "    <tr>\n",
       "      <th>5023</th>\n",
       "      <td>2013</td>\n",
       "      <td>30852</td>\n",
       "      <td>22.74</td>\n",
       "      <td>796.0</td>\n",
       "      <td>47.30</td>\n",
       "      <td>5.0</td>\n",
       "    </tr>\n",
       "    <tr>\n",
       "      <th>3330</th>\n",
       "      <td>2013</td>\n",
       "      <td>43000</td>\n",
       "      <td>20.50</td>\n",
       "      <td>1598.0</td>\n",
       "      <td>105.00</td>\n",
       "      <td>5.0</td>\n",
       "    </tr>\n",
       "    <tr>\n",
       "      <th>1687</th>\n",
       "      <td>2017</td>\n",
       "      <td>47357</td>\n",
       "      <td>18.49</td>\n",
       "      <td>1493.0</td>\n",
       "      <td>100.00</td>\n",
       "      <td>7.0</td>\n",
       "    </tr>\n",
       "    <tr>\n",
       "      <th>2657</th>\n",
       "      <td>2012</td>\n",
       "      <td>60000</td>\n",
       "      <td>19.81</td>\n",
       "      <td>1086.0</td>\n",
       "      <td>68.05</td>\n",
       "      <td>5.0</td>\n",
       "    </tr>\n",
       "    <tr>\n",
       "      <th>2783</th>\n",
       "      <td>2014</td>\n",
       "      <td>62497</td>\n",
       "      <td>15.80</td>\n",
       "      <td>1499.0</td>\n",
       "      <td>110.00</td>\n",
       "      <td>5.0</td>\n",
       "    </tr>\n",
       "  </tbody>\n",
       "</table>\n",
       "<p>4722 rows × 6 columns</p>\n",
       "</div>"
      ],
      "text/plain": [
       "      Year  Kilometers_Driven  Mileage  Engine   Power  Seats\n",
       "1862  2011              68000    17.00  1497.0  118.00    5.0\n",
       "5181  2015              39208    17.57  1193.0   88.70    5.0\n",
       "5861  2007              79000    17.00  1086.0   74.00    5.0\n",
       "4805  2012              47629    15.10  2179.0  140.00    7.0\n",
       "1477  2009              42000    13.00  2987.0  210.00    5.0\n",
       "...    ...                ...      ...     ...     ...    ...\n",
       "5023  2013              30852    22.74   796.0   47.30    5.0\n",
       "3330  2013              43000    20.50  1598.0  105.00    5.0\n",
       "1687  2017              47357    18.49  1493.0  100.00    7.0\n",
       "2657  2012              60000    19.81  1086.0   68.05    5.0\n",
       "2783  2014              62497    15.80  1499.0  110.00    5.0\n",
       "\n",
       "[4722 rows x 6 columns]"
      ]
     },
     "execution_count": 29,
     "metadata": {},
     "output_type": "execute_result"
    }
   ],
   "source": [
    "X_train"
   ]
  },
  {
   "cell_type": "code",
   "execution_count": 30,
   "metadata": {
    "colab": {
     "base_uri": "https://localhost:8080/",
     "height": 357
    },
    "colab_type": "code",
    "id": "rKqsRQlsGNpU",
    "outputId": "098cc8a7-8988-4fc3-8e8c-ded57aca2ec3"
   },
   "outputs": [
    {
     "name": "stdout",
     "output_type": "stream",
     "text": [
      "The Results of Linear Regression Model\n",
      "The R2 score is: 0.6943010059050618\n",
      "The RMSE is: 5.7615207169111855\n",
      "The Standard deviation of y is  10.63176352420769\n",
      "\n",
      "The Results of Linear Regression Model\n",
      "The R2 score is: 0.6943010059050618\n",
      "The RMSE is: 5.7615207169111855\n",
      "The Standard deviation of y is  10.63176352420769\n",
      "\n",
      "The Results of Linear Regression Model\n",
      "The R2 score is: 0.6943010059050618\n",
      "The RMSE is: 5.7615207169111855\n",
      "The Standard deviation of y is  10.63176352420769\n",
      "\n",
      "The Results of Linear Regression Model\n",
      "The R2 score is: 0.6943010059050618\n",
      "The RMSE is: 5.7615207169111855\n",
      "The Standard deviation of y is  10.63176352420769\n",
      "\n"
     ]
    }
   ],
   "source": [
    "def run_Linear_Regression(X_train, X_test, y_train , y_test):\n",
    "    print(\"The Results of Linear Regression Model\")\n",
    "    model = LinearRegression()\n",
    "    model.fit(X_train, y_train)\n",
    "    y_predict = model.predict(X_test)\n",
    "    print(\"The R2 score is:\" , r2_score(y_test, y_predict))\n",
    "    print(\"The RMSE is:\" , np.sqrt(mean_squared_error(y_test , y_predict)))\n",
    "    print(\"The Standard deviation of y is \",np.std(y))\n",
    "    print()\n",
    "    \n",
    "run_Linear_Regression(X_train , X_test, y_train , y_test)\n",
    "run_Linear_Regression(X_train_filter , X_test_filter, y_train , y_test)\n",
    "run_Linear_Regression(X_train_quasi_filter , X_test_quasi_filter, y_train , y_test)\n",
    "run_Linear_Regression(X_train_unique , X_test_unique, y_train , y_test)"
   ]
  },
  {
   "cell_type": "code",
   "execution_count": 0,
   "metadata": {
    "colab": {},
    "colab_type": "code",
    "id": "tgXncgZrJAPX"
   },
   "outputs": [],
   "source": []
  }
 ],
 "metadata": {
  "colab": {
   "collapsed_sections": [],
   "name": "02_Kaustav_feature_engineering_v4.ipynb",
   "provenance": []
  },
  "kernelspec": {
   "display_name": "Python 3",
   "language": "python",
   "name": "python3"
  },
  "language_info": {
   "codemirror_mode": {
    "name": "ipython",
    "version": 3
   },
   "file_extension": ".py",
   "mimetype": "text/x-python",
   "name": "python",
   "nbconvert_exporter": "python",
   "pygments_lexer": "ipython3",
   "version": "3.7.7"
  }
 },
 "nbformat": 4,
 "nbformat_minor": 1
}
